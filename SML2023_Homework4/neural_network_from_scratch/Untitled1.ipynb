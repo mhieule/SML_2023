{
 "cells": [
  {
   "cell_type": "code",
   "execution_count": 2,
   "id": "1b8df4fe",
   "metadata": {},
   "outputs": [],
   "source": [
    "import numpy as np\n",
    "import os"
   ]
  },
  {
   "cell_type": "code",
   "execution_count": 4,
   "id": "13fd08fc",
   "metadata": {},
   "outputs": [
    {
     "name": "stdout",
     "output_type": "stream",
     "text": [
      "(2000, 784) (2000, 10)\n"
     ]
    }
   ],
   "source": [
    "dpath = \"mnist_subset\"\n",
    "train_data_path = os.path.join(dpath, \"train_images.npy\")\n",
    "train_label_path = os.path.join(dpath, \"train_labels.npy\")\n",
    "X = np.load(train_data_path)\n",
    "y = np.load(train_label_path)\n",
    "print(X.shape, y.shape)\n"
   ]
  },
  {
   "cell_type": "code",
   "execution_count": 5,
   "id": "d9c02921",
   "metadata": {
    "scrolled": true
   },
   "outputs": [
    {
     "name": "stdout",
     "output_type": "stream",
     "text": [
      "(784,)\n"
     ]
    }
   ],
   "source": [
    "print(X[0].shape)"
   ]
  },
  {
   "cell_type": "code",
   "execution_count": 18,
   "id": "f1f85602",
   "metadata": {
    "scrolled": false
   },
   "outputs": [
    {
     "name": "stdout",
     "output_type": "stream",
     "text": [
      "[[1]\n",
      " [2]\n",
      " [3]]\n",
      "[[3 4 1]]\n",
      "[[ 3  4  1]\n",
      " [ 6  8  2]\n",
      " [ 9 12  3]]\n",
      "[[ 3  4  1]\n",
      " [ 6  8  2]\n",
      " [ 9 12  3]]\n",
      "[[1 2]\n",
      " [0 3]]\n"
     ]
    }
   ],
   "source": [
    "np.random.seed(8)\n",
    "x = np.arange(3) + 1\n",
    "W = np.random.randint(0,5,size=(1,3))\n",
    "x = x[:,None]\n",
    "print(x)\n",
    "print(W)\n",
    "print(x @ W)\n",
    "print(x * W)\n",
    "X = np.random.randint(0,5,size=(2,2))\n",
    "print(X)"
   ]
  },
  {
   "cell_type": "code",
   "execution_count": 7,
   "id": "451aa16e",
   "metadata": {},
   "outputs": [
    {
     "name": "stdout",
     "output_type": "stream",
     "text": [
      "[[3 1 3]\n",
      " [2 4 1]\n",
      " [1 0 1]\n",
      " [0 0 4]]\n",
      "[1 2 3]\n",
      "[2 4 3 3 0]\n",
      "[[[ 6 12  9  9  0]\n",
      "  [ 2  4  3  3  0]\n",
      "  [ 6 12  9  9  0]]\n",
      "\n",
      " [[ 4  8  6  6  0]\n",
      "  [ 8 16 12 12  0]\n",
      "  [ 2  4  3  3  0]]\n",
      "\n",
      " [[ 2  4  3  3  0]\n",
      "  [ 0  0  0  0  0]\n",
      "  [ 2  4  3  3  0]]\n",
      "\n",
      " [[ 0  0  0  0  0]\n",
      "  [ 0  0  0  0  0]\n",
      "  [ 8 16 12 12  0]]] (4, 3, 5)\n",
      "[[12 24 18 18  0]\n",
      " [10 20 15 15  0]\n",
      " [18 36 27 27  0]]\n"
     ]
    }
   ],
   "source": [
    "np.random.seed(69)\n",
    "x = np.arange(3) + 1\n",
    "X = np.random.randint(0,5,size=(4,3))\n",
    "w = np.random.randint(0,5,size=(5))\n",
    "print(X)\n",
    "print(x)\n",
    "print(w)\n",
    "#print(np.einsum('i,ij->i', x, w[:,None]))\n",
    "t = np.einsum('ki,ij->kij',X,w[None,:])\n",
    "print(t, t.shape)\n",
    "print(np.einsum('ki,ij->ij',X,w[None,:]))"
   ]
  },
  {
   "cell_type": "code",
   "execution_count": 25,
   "id": "83aaa118",
   "metadata": {},
   "outputs": [
    {
     "name": "stdout",
     "output_type": "stream",
     "text": [
      "[[1 0 1 0 1 0]\n",
      " [0 1 1 0 1 1]\n",
      " [0 1 0 1 0 1]\n",
      " [1 0 1 0 0 1]\n",
      " [0 1 0 0 0 0]]\n",
      "[3 4 3 3 1]\n",
      "[[2 1 2 1 2 1]\n",
      " [1 2 2 1 2 2]\n",
      " [1 2 1 2 1 2]\n",
      " [2 1 2 1 1 2]\n",
      " [1 2 1 1 1 1]]\n",
      "[[4 1 4 1 4 1]\n",
      " [1 4 4 1 4 4]\n",
      " [1 4 1 4 1 4]\n",
      " [4 1 4 1 1 4]\n",
      " [1 4 1 1 1 1]]\n"
     ]
    }
   ],
   "source": [
    "Y = np.random.randint(0,2, size=(5,6))\n",
    "print(Y)\n",
    "print(np.sum(Y,axis=1))\n",
    "Z = Y / np.sum(Y,axis=1)[:,None]\n",
    "print(Y+1)\n",
    "print((Y+1) * (Y+1))"
   ]
  }
 ],
 "metadata": {
  "kernelspec": {
   "display_name": "Python 3 (ipykernel)",
   "language": "python",
   "name": "python3"
  },
  "language_info": {
   "codemirror_mode": {
    "name": "ipython",
    "version": 3
   },
   "file_extension": ".py",
   "mimetype": "text/x-python",
   "name": "python",
   "nbconvert_exporter": "python",
   "pygments_lexer": "ipython3",
   "version": "3.11.3"
  }
 },
 "nbformat": 4,
 "nbformat_minor": 5
}
