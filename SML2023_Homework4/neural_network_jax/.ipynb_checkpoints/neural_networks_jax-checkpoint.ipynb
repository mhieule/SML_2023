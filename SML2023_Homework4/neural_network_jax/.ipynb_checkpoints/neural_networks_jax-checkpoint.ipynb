{
 "cells": [
  {
   "cell_type": "markdown",
   "metadata": {},
   "source": [
    "# Investigation on neural networks\n",
    "\n",
    "In this notebook we explore several properties of neural networks and the influence of some parameters on the overall performance.\n",
    "You are not allowed to import any other library than the ones already imported. We only ask you to add some lines of code, removing or changing the given code is not allowed."
   ]
  },
  {
   "cell_type": "markdown",
   "metadata": {},
   "source": [
    "### Learning parameters"
   ]
  },
  {
   "cell_type": "code",
   "execution_count": 1,
   "metadata": {},
   "outputs": [],
   "source": [
    "N_EPOCHS = 15\n",
    "BATCH_SIZE = 64\n",
    "LEARNING_RATE = 0.001\n",
    "N_SAMPLES = 500\n",
    "USE_CONVOLUTIONS = True\n",
    "RELU_AS_ACTIVATION = False"
   ]
  },
  {
   "cell_type": "markdown",
   "metadata": {},
   "source": [
    "### Load the dataset"
   ]
  },
  {
   "cell_type": "markdown",
   "metadata": {},
   "source": [
    "#### Question 1: fill the \"TO DO\" lines to load the given dataset"
   ]
  },
  {
   "cell_type": "code",
   "execution_count": 2,
   "metadata": {},
   "outputs": [
    {
     "name": "stderr",
     "output_type": "stream",
     "text": [
      "No GPU/TPU found, falling back to CPU. (Set TF_CPP_MIN_LOG_LEVEL=0 and rerun for more info.)\n"
     ]
    },
    {
     "name": "stdout",
     "output_type": "stream",
     "text": [
      "[[0. 0. 0. ... 0. 0. 0.]\n",
      " [1. 0. 0. ... 0. 0. 0.]\n",
      " [0. 0. 0. ... 0. 0. 0.]\n",
      " ...\n",
      " [0. 0. 0. ... 1. 0. 0.]\n",
      " [0. 0. 0. ... 0. 0. 0.]\n",
      " [0. 0. 0. ... 0. 1. 0.]]\n"
     ]
    }
   ],
   "source": [
    "import jax.numpy as jnp\n",
    "\n",
    "train_images = jnp.load(\"train_images.npy\")[:N_SAMPLES]\n",
    "train_labels = jnp.load(\"train_labels.npy\")[:N_SAMPLES]\n",
    "test_images = jnp.load(\"test_images.npy\")\n",
    "test_labels = jnp.load(\"test_labels.npy\")\n",
    "n_samples = train_images.shape[0]\n",
    "\n",
    "if USE_CONVOLUTIONS:\n",
    "    train_images = train_images.reshape((-1, 28, 28))\n",
    "    test_images = test_images.reshape((-1, 28, 28))\n",
    "print(train_labels)"
   ]
  },
  {
   "cell_type": "markdown",
   "metadata": {},
   "source": [
    "### Plots of some samples"
   ]
  },
  {
   "cell_type": "markdown",
   "metadata": {},
   "source": [
    "#### Question 2: plot the 9 first samples of the train dataset on a 3 x 3 grid. The title of each subplot is the label of the image shown in the subplot. "
   ]
  },
  {
   "cell_type": "code",
   "execution_count": 3,
   "metadata": {
    "scrolled": false
   },
   "outputs": [
    {
     "data": {
      "image/png": "[encoded data removed]",
      "text/plain": [
       "<Figure size 640x480 with 9 Axes>"
      ]
     },
     "metadata": {},
     "output_type": "display_data"
    }
   ],
   "source": [
    "import matplotlib.pyplot as plt\n",
    "\n",
    "fig, axes = plt.subplots(3, 3)\n",
    "\n",
    "for i in range(3):\n",
    "    for j in range(3):\n",
    "        axes[i,j].imshow(train_images[3*i+j].reshape((28,28,1)), cmap='gray')\n",
    "        axes[i,j].set_title(jnp.nonzero(train_labels[3*i+j])[0][0])\n",
    "\n",
    "plt.tight_layout()"
   ]
  },
  {
   "cell_type": "markdown",
   "metadata": {},
   "source": [
    "### Neural network implementation"
   ]
  },
  {
   "cell_type": "markdown",
   "metadata": {},
   "source": [
    "#### Question 3: Implement a Multi-Layer Perceptron (MLP) with the following architecture: Linear 512 - * - Linear 512 - * - Linear 512 - * - Linear 10, where * is ReLU if relu_as_activation is True and Tanh otherwise."
   ]
  },
  {
   "cell_type": "code",
   "execution_count": 4,
   "metadata": {},
   "outputs": [],
   "source": [
    "import flax.linen as nn\n",
    "\n",
    "class MLP(nn.Module):\n",
    "    \"\"\"A simple MLP model.\"\"\"\n",
    "    relu_as_activation: bool\n",
    "\n",
    "    @nn.compact\n",
    "    def __call__(self, x):\n",
    "        # make sure x is a batch \n",
    "        x = jnp.atleast_2d(x)\n",
    "        for i in range(3):\n",
    "            x = nn.Dense(features=512)(x)\n",
    "        x = nn.relu(x) if self.relu_as_activation else nn.tanh(x)\n",
    "        x = nn.Dense(features=10)(x)\n",
    "        return x"
   ]
  },
  {
   "cell_type": "markdown",
   "metadata": {},
   "source": [
    "#### Question 4: Implement a Convolutional Neural Network (CNN) with the following architecture: Conv 32 - * - AvgPool - Conv 64 - * - AvgPool - Linear 256 - * - Linear 10, where * is ReLU if relu_as_activation is True and Tanh otherwise and AvgPool is an average pooling layer. The kernel size for the convolutional layers is 3 x 3, the rest of the parameters are left unchanged from the default implementation of flax. The window size of the average pooling layers is 2 x 2 and the stride is 2 x 2, the rest of the parameters are left unchanged from the default implementation of flax."
   ]
  },
  {
   "cell_type": "code",
   "execution_count": 5,
   "metadata": {},
   "outputs": [],
   "source": [
    "class CNN(nn.Module):\n",
    "    \"\"\"A simple CNN model.\"\"\"\n",
    "    relu_as_activation: bool\n",
    "\n",
    "    @nn.compact\n",
    "    def __call__(self, x):\n",
    "        # make sure x is a batch \n",
    "        x = jnp.atleast_3d(x)\n",
    "        # nn.Conv uses channel last convention\n",
    "        x = x[:,:,:, jnp.newaxis]\n",
    "        conv_features = [32,64]\n",
    "        for feat in conv_features:\n",
    "            x = nn.Conv(features=feat, kernel_size=(3,3))(x)\n",
    "            x = nn.relu(x) if self.relu_as_activation else nn.tanh(x)\n",
    "            x = nn.avg_pool(x, window_shape=(2,2), strides=(2,2))\n",
    "        x = x.reshape((x.shape[0],-1))\n",
    "        x = nn.Dense(features=256)(x)\n",
    "        x = nn.relu(x) if self.relu_as_activation else nn.tanh(x)\n",
    "        x = nn.Dense(features=10)(x)\n",
    "        return x"
   ]
  },
  {
   "cell_type": "markdown",
   "metadata": {},
   "source": [
    "#### Question 5: Implement the model that we will train in the following cells."
   ]
  },
  {
   "cell_type": "code",
   "execution_count": 6,
   "metadata": {},
   "outputs": [],
   "source": [
    "from functools import partial\n",
    "import jax\n",
    "import optax\n",
    "\n",
    "\n",
    "class Model:\n",
    "    def __init__(self, network, key, learning_rate, batch_size) -> None:\n",
    "        self.network = network\n",
    "        if type(self.network) == CNN:\n",
    "            self.params = self.network.init(key, x=train_images[:batch_size])\n",
    "        else:\n",
    "            self.params = self.network.init(key, x=train_images[:batch_size])\n",
    "        self.optimizer = optax.adam(learning_rate)\n",
    "        self.optimizer_state = self.optimizer.init(self.params)\n",
    "        \n",
    "    @partial(jax.jit, static_argnames=\"self\")\n",
    "    def loss(self, params, batch) -> float:\n",
    "        \"\"\"\n",
    "        Compute the softmax cross entropy and average it over the batch given as input.\n",
    "        \"\"\"\n",
    "        X, Y = batch\n",
    "        fX = self.network.apply(params, X)\n",
    "        return optax.softmax_cross_entropy(fX, Y).mean()\n",
    "\n",
    "\n",
    "    @partial(jax.jit, static_argnames=\"self\")\n",
    "    def update_model(self, params, batch, optimizer_state):\n",
    "        \"\"\"\n",
    "        Performs one gradient step on the batch given as input.\n",
    "        \"\"\"\n",
    "        loss, grad_loss = jax.value_and_grad(self.loss)(params, batch)\n",
    "        updates, optimizer_state = self.optimizer.update(grad_loss, optimizer_state)\n",
    "        params = optax.apply_updates(params, updates)\n",
    "        return params, optimizer_state, loss, grad_loss\n",
    "\n",
    "\n",
    "\n",
    "    @partial(jax.jit, static_argnames=\"self\")\n",
    "    def accuracy(self, params, batch) -> float:\n",
    "        \"\"\"\n",
    "        Compute the accuracy of the model and average it over the batch given as input.\n",
    "        \"\"\"\n",
    "        X, Y = batch\n",
    "        fX = self.network.apply(params, X)\n",
    "        return jnp.mean(jnp.argmax(fX,axis=1) == jnp.argmax(Y,axis=1))"
   ]
  },
  {
   "cell_type": "markdown",
   "metadata": {},
   "source": [
    "#### Utils"
   ]
  },
  {
   "cell_type": "code",
   "execution_count": 7,
   "metadata": {},
   "outputs": [],
   "source": [
    "def get_batch_indexes(key, n_samples, batch_size):\n",
    "    perms = jax.random.permutation(key, n_samples)\n",
    "    perms = perms[: n_samples // batch_size * batch_size]  # skip incomplete batch\n",
    "    return perms.reshape((-1, batch_size))"
   ]
  },
  {
   "cell_type": "markdown",
   "metadata": {},
   "source": [
    "### Training the model"
   ]
  },
  {
   "cell_type": "markdown",
   "metadata": {},
   "source": [
    "#### Question 6: Write a script to train an instance of the class Model on the given dataset."
   ]
  },
  {
   "cell_type": "code",
   "execution_count": 8,
   "metadata": {
    "scrolled": true
   },
   "outputs": [
    {
     "name": "stdout",
     "output_type": "stream",
     "text": [
      "\n",
      "Starting training...\n"
     ]
    },
    {
     "data": {
      "application/vnd.jupyter.widget-view+json": {
       "model_id": "62784a80f73745df812e8d563f78958f",
       "version_major": 2,
       "version_minor": 0
      },
      "text/plain": [
       "  0%|          | 0/15 [00:00<?, ?it/s]"
      ]
     },
     "metadata": {},
     "output_type": "display_data"
    },
    {
     "data": {
      "application/vnd.jupyter.widget-view+json": {
       "model_id": "",
       "version_major": 2,
       "version_minor": 0
      },
      "text/plain": [
       "  0%|          | 0/7 [00:00<?, ?it/s]"
      ]
     },
     "metadata": {},
     "output_type": "display_data"
    },
    {
     "data": {
      "application/vnd.jupyter.widget-view+json": {
       "model_id": "",
       "version_major": 2,
       "version_minor": 0
      },
      "text/plain": [
       "  0%|          | 0/7 [00:00<?, ?it/s]"
      ]
     },
     "metadata": {},
     "output_type": "display_data"
    },
    {
     "data": {
      "application/vnd.jupyter.widget-view+json": {
       "model_id": "",
       "version_major": 2,
       "version_minor": 0
      },
      "text/plain": [
       "  0%|          | 0/7 [00:00<?, ?it/s]"
      ]
     },
     "metadata": {},
     "output_type": "display_data"
    },
    {
     "data": {
      "application/vnd.jupyter.widget-view+json": {
       "model_id": "",
       "version_major": 2,
       "version_minor": 0
      },
      "text/plain": [
       "  0%|          | 0/7 [00:00<?, ?it/s]"
      ]
     },
     "metadata": {},
     "output_type": "display_data"
    },
    {
     "data": {
      "application/vnd.jupyter.widget-view+json": {
       "model_id": "",
       "version_major": 2,
       "version_minor": 0
      },
      "text/plain": [
       "  0%|          | 0/7 [00:00<?, ?it/s]"
      ]
     },
     "metadata": {},
     "output_type": "display_data"
    },
    {
     "data": {
      "application/vnd.jupyter.widget-view+json": {
       "model_id": "",
       "version_major": 2,
       "version_minor": 0
      },
      "text/plain": [
       "  0%|          | 0/7 [00:00<?, ?it/s]"
      ]
     },
     "metadata": {},
     "output_type": "display_data"
    },
    {
     "data": {
      "application/vnd.jupyter.widget-view+json": {
       "model_id": "",
       "version_major": 2,
       "version_minor": 0
      },
      "text/plain": [
       "  0%|          | 0/7 [00:00<?, ?it/s]"
      ]
     },
     "metadata": {},
     "output_type": "display_data"
    },
    {
     "data": {
      "application/vnd.jupyter.widget-view+json": {
       "model_id": "",
       "version_major": 2,
       "version_minor": 0
      },
      "text/plain": [
       "  0%|          | 0/7 [00:00<?, ?it/s]"
      ]
     },
     "metadata": {},
     "output_type": "display_data"
    },
    {
     "data": {
      "application/vnd.jupyter.widget-view+json": {
       "model_id": "",
       "version_major": 2,
       "version_minor": 0
      },
      "text/plain": [
       "  0%|          | 0/7 [00:00<?, ?it/s]"
      ]
     },
     "metadata": {},
     "output_type": "display_data"
    },
    {
     "data": {
      "application/vnd.jupyter.widget-view+json": {
       "model_id": "",
       "version_major": 2,
       "version_minor": 0
      },
      "text/plain": [
       "  0%|          | 0/7 [00:00<?, ?it/s]"
      ]
     },
     "metadata": {},
     "output_type": "display_data"
    },
    {
     "data": {
      "application/vnd.jupyter.widget-view+json": {
       "model_id": "",
       "version_major": 2,
       "version_minor": 0
      },
      "text/plain": [
       "  0%|          | 0/7 [00:00<?, ?it/s]"
      ]
     },
     "metadata": {},
     "output_type": "display_data"
    },
    {
     "data": {
      "application/vnd.jupyter.widget-view+json": {
       "model_id": "",
       "version_major": 2,
       "version_minor": 0
      },
      "text/plain": [
       "  0%|          | 0/7 [00:00<?, ?it/s]"
      ]
     },
     "metadata": {},
     "output_type": "display_data"
    },
    {
     "data": {
      "application/vnd.jupyter.widget-view+json": {
       "model_id": "",
       "version_major": 2,
       "version_minor": 0
      },
      "text/plain": [
       "  0%|          | 0/7 [00:00<?, ?it/s]"
      ]
     },
     "metadata": {},
     "output_type": "display_data"
    },
    {
     "data": {
      "application/vnd.jupyter.widget-view+json": {
       "model_id": "",
       "version_major": 2,
       "version_minor": 0
      },
      "text/plain": [
       "  0%|          | 0/7 [00:00<?, ?it/s]"
      ]
     },
     "metadata": {},
     "output_type": "display_data"
    },
    {
     "data": {
      "application/vnd.jupyter.widget-view+json": {
       "model_id": "",
       "version_major": 2,
       "version_minor": 0
      },
      "text/plain": [
       "  0%|          | 0/7 [00:00<?, ?it/s]"
      ]
     },
     "metadata": {},
     "output_type": "display_data"
    },
    {
     "name": "stdout",
     "output_type": "stream",
     "text": [
      "Training time: 8.0 s\n"
     ]
    }
   ],
   "source": [
    "import time\n",
    "from tqdm.notebook import tqdm\n",
    "import numpy as np \n",
    "\n",
    "\n",
    "key = jax.random.PRNGKey(0)  # for deterministic randomness purposes\n",
    "\n",
    "model = Model(CNN(RELU_AS_ACTIVATION) if USE_CONVOLUTIONS else MLP(RELU_AS_ACTIVATION), key, LEARNING_RATE, BATCH_SIZE)\n",
    "training_loss = np.zeros(N_EPOCHS)\n",
    "test_loss = np.zeros(N_EPOCHS)\n",
    "training_accuracy = np.zeros(N_EPOCHS)\n",
    "test_accuracy = np.zeros(N_EPOCHS)\n",
    "grad_norm_first_layer = np.zeros(N_EPOCHS)\n",
    "grad_norm_last_layer = np.zeros(N_EPOCHS)\n",
    "\n",
    "print(\"\\nStarting training...\")\n",
    "start_time = time.time()\n",
    "tst = True\n",
    "for epoch_idx in tqdm(range(N_EPOCHS)):\n",
    "    key, _ = jax.random.split(key)\n",
    "    permutations = get_batch_indexes(key, n_samples, BATCH_SIZE)\n",
    "\n",
    "    for batch_indexes in tqdm(permutations, leave=False):\n",
    "        batch = (train_images[batch_indexes], train_labels[batch_indexes])\n",
    "        model.params, model.optimizer_state, loss, grad_loss = model.update_model(model.params, batch, model.optimizer_state)\n",
    "        training_loss[epoch_idx] += loss\n",
    "        training_accuracy[epoch_idx] += model.accuracy(model.params, batch)\n",
    "\n",
    "        grad_loss_norm = jax.tree_map(jnp.linalg.norm, grad_loss)\n",
    "        grad_norm_first_layer[epoch_idx] += grad_loss_norm[\"params\"][\"Conv_0\" if USE_CONVOLUTIONS else \"Dense_0\"][\"kernel\"]\n",
    "        grad_norm_last_layer[epoch_idx] += grad_loss_norm[\"params\"][\"Dense_1\" if USE_CONVOLUTIONS else \"Dense_3\"][\"kernel\"]\n",
    "\n",
    "\n",
    "    training_loss[epoch_idx] /= len(permutations)\n",
    "    training_accuracy[epoch_idx] /= len(permutations)\n",
    "    grad_norm_first_layer[epoch_idx] /= len(permutations)\n",
    "    grad_norm_last_layer[epoch_idx] /= len(permutations)\n",
    "    test_loss[epoch_idx] = model.loss(model.params, (test_images, test_labels))\n",
    "    test_accuracy[epoch_idx] = model.accuracy(model.params, (test_images, test_labels))\n",
    "\n",
    "\n",
    "print(\"Training time:\", jnp.round(time.time() - start_time), \"s\")"
   ]
  },
  {
   "cell_type": "markdown",
   "metadata": {},
   "source": [
    "### Plots of the training and testing metrics"
   ]
  },
  {
   "cell_type": "code",
   "execution_count": 9,
   "metadata": {},
   "outputs": [
    {
     "data": {
      "image/png": "[encoded data removed]",
      "text/plain": [
       "<Figure size 640x480 with 2 Axes>"
      ]
     },
     "metadata": {},
     "output_type": "display_data"
    }
   ],
   "source": [
    "fig, ax = plt.subplots(2)\n",
    "\n",
    "ax[0].plot(training_loss, label=\"Train\")\n",
    "ax[0].plot(test_loss, label=\"Test\")\n",
    "ax[0].legend()\n",
    "ax[0].set_title(\"Loss\")\n",
    "ax[1].plot(training_accuracy, label=\"Train\")\n",
    "ax[1].plot(test_accuracy, label=\"Test\")\n",
    "ax[1].legend()\n",
    "_ = ax[1].set_title(\"Accuracy\")\n",
    "plt.tight_layout()"
   ]
  },
  {
   "cell_type": "markdown",
   "metadata": {},
   "source": [
    "### Plots of the first missclassified sample"
   ]
  },
  {
   "cell_type": "markdown",
   "metadata": {},
   "source": [
    "#### Question 7: Plot the first miss-classified sample of the test dataset."
   ]
  },
  {
   "cell_type": "code",
   "execution_count": 10,
   "metadata": {},
   "outputs": [
    {
     "data": {
      "image/png": "[encoded data removed]",
      "text/plain": [
       "<Figure size 640x480 with 1 Axes>"
      ]
     },
     "metadata": {},
     "output_type": "display_data"
    }
   ],
   "source": [
    "import matplotlib.pyplot as plt\n",
    "import jax.numpy as jnp\n",
    "\n",
    "preds = model.network.apply(model.params, test_images)\n",
    "preds = preds.argmax(axis=1)\n",
    "labels = test_labels.argmax(axis=1)\n",
    "\n",
    "idx_first_error = (preds != labels).nonzero()[0][0]\n",
    "prediction_first_error = preds[idx_first_error]\n",
    "label_first_error = labels[idx_first_error]\n",
    "\n",
    "plt.imshow(test_images[idx_first_error].reshape(28, 28), cmap='gray')\n",
    "plt.xticks([])\n",
    "plt.yticks([])\n",
    "plt.title(f\"Miss classified digit, prediction: {prediction_first_error}, true label: {label_first_error}\")\n",
    "plt.tight_layout()"
   ]
  },
  {
   "cell_type": "markdown",
   "metadata": {},
   "source": [
    "### Store gradient norms"
   ]
  },
  {
   "cell_type": "code",
   "execution_count": 11,
   "metadata": {},
   "outputs": [],
   "source": [
    "network_type = \"cnn\" if USE_CONVOLUTIONS else \"mlp\"\n",
    "activation_type = \"_relu\" if RELU_AS_ACTIVATION else \"_tanh\"\n",
    "\n",
    "np.save(\"grad_norm_first_layer_\" + network_type + activation_type, grad_norm_first_layer)\n",
    "np.save(\"grad_norm_last_layer_\" + network_type + activation_type, grad_norm_last_layer)"
   ]
  },
  {
   "cell_type": "markdown",
   "metadata": {},
   "source": [
    "### Plot gradient norms"
   ]
  },
  {
   "cell_type": "code",
   "execution_count": 12,
   "metadata": {},
   "outputs": [
    {
     "data": {
      "image/png": "[encoded data removed]",
      "text/plain": [
       "<Figure size 640x480 with 1 Axes>"
      ]
     },
     "metadata": {},
     "output_type": "display_data"
    }
   ],
   "source": [
    "RUN_BOTH_ACTIVATIONS = False\n",
    "\n",
    "if RUN_BOTH_ACTIVATIONS:\n",
    "    grad_norm_first_layer_relu = jnp.load(f\"grad_norm_first_layer_{network_type}_relu.npy\")\n",
    "    grad_norm_last_layer_relu = jnp.load(f\"grad_norm_last_layer_{network_type}_relu.npy\")\n",
    "    grad_norm_first_layer_tanh = jnp.load(f\"grad_norm_first_layer_{network_type}_tanh.npy\")\n",
    "    grad_norm_last_layer_tanh = jnp.load(f\"grad_norm_last_layer_{network_type}_tanh.npy\")\n",
    "\n",
    "\n",
    "    plt.plot(grad_norm_first_layer_relu, label=\"First layer ReLU\")\n",
    "    plt.plot(grad_norm_last_layer_relu, label=\"Last layer ReLU\")\n",
    "    plt.plot(grad_norm_first_layer_tanh, label=\"First layer tanh\")\n",
    "    plt.plot(grad_norm_last_layer_tanh, label=\"Last layer tanh\")\n",
    "\n",
    "    plt.legend()\n",
    "    plt.title(f\"Gradients norm of the {network_type}\")\n",
    "    plt.tight_layout()"
   ]
  }
 ],
 "metadata": {
  "kernelspec": {
   "display_name": "Python 3 (ipykernel)",
   "language": "python",
   "name": "python3"
  },
  "language_info": {
   "codemirror_mode": {
    "name": "ipython",
    "version": 3
   },
   "file_extension": ".py",
   "mimetype": "text/x-python",
   "name": "python",
   "nbconvert_exporter": "python",
   "pygments_lexer": "ipython3",
   "version": "3.11.3"
  }
 },
 "nbformat": 4,
 "nbformat_minor": 2
}
