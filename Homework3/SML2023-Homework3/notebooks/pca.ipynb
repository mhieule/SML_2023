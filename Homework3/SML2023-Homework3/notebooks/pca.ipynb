{
  "nbformat": 4,
  "nbformat_minor": 0,
  "metadata": {
    "colab": {
      "provenance": []
    },
    "kernelspec": {
      "name": "python3",
      "display_name": "Python 3"
    },
    "language_info": {
      "name": "python"
    }
  },
  "cells": [
    {
      "cell_type": "markdown",
      "source": [
        "# Exercise 3.4"
      ],
      "metadata": {
        "id": "c-LN3TVggTrt"
      }
    },
    {
      "cell_type": "markdown",
      "source": [
        "## Linear Dimensionality Reduction\n",
        "\n",
        "In this task, we will visualize the main principle axes of the IRIS dataset. The dataset contains 150 datapoints of different irises' petal types (Setosa, Versicolour, and Virginica) which are characterized by the *sepal length, sepal width, petal length, and the petal width*. The task can also be thought of as projecting the high-dimensional dataset into lower dimensions (2D in our case) while retaining most of data information, for data exploratory purposes."
      ],
      "metadata": {
        "id": "ala4YaNmKPtb"
      }
    },
    {
      "cell_type": "markdown",
      "source": [
        "### Exercise 3.4.1\n",
        "\n",
        "Implement the Principle Component Analysis (PCA) class. "
      ],
      "metadata": {
        "id": "ffl1-KjCgaWG"
      }
    },
    {
      "cell_type": "code",
      "execution_count": null,
      "metadata": {
        "id": "dUUqWBM7Ql0s"
      },
      "outputs": [],
      "source": [
        "import numpy as np\n",
        "\n",
        "\n",
        "class PCA:\n",
        "  '''\n",
        "  This class computes the first n eigenvectors from the dataset via fit(), and \n",
        "  projects the original data to the subspace spanned by its eigenvectors via \n",
        "  transform().\n",
        "  '''\n",
        "  def __init__(self, n_components):\n",
        "    '''      \n",
        "    Args:\n",
        "        n_components (int): number of principle components. n_components <= d\n",
        "    '''\n",
        "    self.n_components = n_components\n",
        "    self.components = None  # expected size [n_components, d] \n",
        "    self.mean = None  # expected size [d]\n",
        "\n",
        "  def fit(self, X):\n",
        "    '''\n",
        "    Compute the first n_components of eigenvectors from data, and store them\n",
        "    in self.components.\n",
        "    \n",
        "    Args:\n",
        "        X: Array of m points (m, d).\n",
        "    '''\n",
        "    # TODO: Your code here\n",
        "\n",
        "  def transform(self, X):\n",
        "    '''\n",
        "    Project the data into the n_components of eigenvectors.\n",
        "    \n",
        "    Args:\n",
        "        X: Array of m points (m, d).\n",
        "\n",
        "    Returns:\n",
        "        X_projected: X: Array of m points (m, n_components).\n",
        "    '''\n",
        "    # TODO: Your code here"
      ]
    },
    {
      "cell_type": "markdown",
      "source": [
        "### Exercise 3.4.2\n",
        "Use the PCA class to visualize the IRIS dataset in the first two principle components. The data points are also needed to be colored according to their distinct classes. Are the classes separable with linear discriminators?\n",
        "\n",
        "**Hint:** Use `plt.scatter` to plot the projected data points with colors."
      ],
      "metadata": {
        "id": "d5mrmlzcN9PP"
      }
    },
    {
      "cell_type": "code",
      "source": [
        "# Imports\n",
        "import matplotlib.pyplot as plt\n",
        "from sklearn import datasets\n",
        "\n",
        "\n",
        "data = datasets.load_iris()\n",
        "X = data.data\n",
        "y = data.target\n",
        "\n",
        "# Project the data onto the 2 primary principal components\n",
        "# TODO: Your code here\n",
        "\n",
        "print(\"Shape of X:\", X.shape)\n",
        "print(\"Shape of transformed X:\", X_projected.shape)\n",
        "\n",
        "# visualize the projected data\n",
        "# TODO: Your code here"
      ],
      "metadata": {
        "id": "8II6ILpoNzjJ"
      },
      "execution_count": null,
      "outputs": []
    }
  ]
}